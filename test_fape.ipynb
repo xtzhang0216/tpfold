{
 "cells": [
  {
   "cell_type": "code",
   "execution_count": 6,
   "metadata": {},
   "outputs": [
    {
     "data": {
      "text/plain": [
       "torch.Size([1, 1, 3, 3])"
      ]
     },
     "execution_count": 6,
     "metadata": {},
     "output_type": "execute_result"
    }
   ],
   "source": [
    "import torch\n",
    "ala_lit_coords=torch.Tensor([[[[-0.525, 1.363, 0.000],[0.0000,0.000,0.000],[1.526,0.000,0.000]]]]).float()\n",
    "ala_lit_coords.shape"
   ]
  },
  {
   "cell_type": "code",
   "execution_count": 7,
   "metadata": {},
   "outputs": [],
   "source": [
    "import torch\n",
    "from openfold.utils.rigid_utils import Rotation, Rigid\n",
    "def get_bb_frames(coords):\n",
    "    \"\"\"\n",
    "    Returns a local rotation frame defined by N, CA, C positions.\n",
    "    Args:\n",
    "        coords: coordinates, tensor of shape (batch_size x length x 3 x 3)\n",
    "        where the third dimension is in order of N, CA, C\n",
    "    Returns:\n",
    "        Local relative rotation frames in shape (batch_size x length x 3 x 3)\n",
    "        Local translation in shape (batch_size x length x 3)\n",
    "    \"\"\"\n",
    "    v1 = coords[:, :, 2] - coords[:, :, 1]\n",
    "    v2 = coords[:, :, 0] - coords[:, :, 1]\n",
    "    e1 = normalize(v1, dim=-1)  # [B, L, 3]\n",
    "    u2 = v2 - e1 * torch.sum(e1 * v2, dim=-1, keepdim=True)\n",
    "    e2 = normalize(u2, dim=-1)  # [B, L, 3]\n",
    "    e3 = torch.cross(e1, e2, dim=-1)\n",
    "    R = torch.stack([e1, e2, e3], dim=-1)\n",
    "    t = coords[:, :, 1]  # translation is just the CA atom coordinate\n",
    "    return Rigid(Rotation(R), t)\n",
    "\n",
    "def norm(tensor, dim, eps=1e-8, keepdim=False):\n",
    "    \"\"\"\n",
    "    Returns L2 norm along a dimension.\n",
    "    \"\"\"\n",
    "    return torch.sqrt(\n",
    "        torch.sum(torch.square(tensor), dim=dim, keepdim=keepdim) + eps)\n",
    "\n",
    "\n",
    "def normalize(tensor, dim=-1):\n",
    "    \"\"\"\n",
    "    Normalizes a tensor along a dimension after removing nans.\n",
    "    \"\"\"\n",
    "    return nan_to_num(\n",
    "        torch.div(tensor, norm(tensor, dim=dim, keepdim=True))\n",
    "    )\n",
    "\n",
    "\n",
    "def nan_to_num(ts, val=0.0):\n",
    "    \"\"\"\n",
    "    Replaces nans in tensor with a fixed value.    \n",
    "    \"\"\"\n",
    "    val = torch.tensor(val, dtype=ts.dtype, device=ts.device)\n",
    "    return torch.where(~torch.isfinite(ts), val, ts)"
   ]
  },
  {
   "cell_type": "code",
   "execution_count": 8,
   "metadata": {},
   "outputs": [
    {
     "data": {
      "text/plain": [
       "tensor([[[[-9.9998e-01, -1.6442e-05,  0.0000e+00],\n",
       "          [ 0.0000e+00,  9.9997e-01,  0.0000e+00],\n",
       "          [ 0.0000e+00,  0.0000e+00, -9.9995e-01]]]])"
      ]
     },
     "execution_count": 8,
     "metadata": {},
     "output_type": "execute_result"
    }
   ],
   "source": [
    "frame1=Rigid.from_3_points(\n",
    "                            p_neg_x_axis=ala_lit_coords[..., 2, :],\n",
    "                            origin=ala_lit_coords[...,1,:],\n",
    "                            p_xy_plane=ala_lit_coords[...,0,:],\n",
    "                            eps=1e-4\n",
    "                            )\n",
    "frame1._rots._rot_mats"
   ]
  },
  {
   "cell_type": "code",
   "execution_count": 9,
   "metadata": {},
   "outputs": [
    {
     "data": {
      "text/plain": [
       "tensor([[[[1., 0., 0.],\n",
       "          [0., 1., 0.],\n",
       "          [0., 0., 1.]]]])"
      ]
     },
     "execution_count": 9,
     "metadata": {},
     "output_type": "execute_result"
    }
   ],
   "source": [
    "frame2 = get_bb_frames(ala_lit_coords)\n",
    "frame2._rots._rot_mats"
   ]
  }
 ],
 "metadata": {
  "kernelspec": {
   "display_name": "TMprotein_predict",
   "language": "python",
   "name": "python3"
  },
  "language_info": {
   "codemirror_mode": {
    "name": "ipython",
    "version": 3
   },
   "file_extension": ".py",
   "mimetype": "text/x-python",
   "name": "python",
   "nbconvert_exporter": "python",
   "pygments_lexer": "ipython3",
   "version": "3.8.15"
  },
  "orig_nbformat": 4,
  "vscode": {
   "interpreter": {
    "hash": "9eb0802f6c9ed3b5f56a7212215bf0ff49df5c6f2ae731aae09e7070f7112c1a"
   }
  }
 },
 "nbformat": 4,
 "nbformat_minor": 2
}
